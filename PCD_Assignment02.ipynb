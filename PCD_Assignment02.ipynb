{
  "nbformat": 4,
  "nbformat_minor": 0,
  "metadata": {
    "colab": {
      "provenance": [],
      "authorship_tag": "ABX9TyNsSquK92bm67fhaXWCoZf+",
      "include_colab_link": true
    },
    "kernelspec": {
      "name": "python3",
      "display_name": "Python 3"
    },
    "language_info": {
      "name": "python"
    }
  },
  "cells": [
    {
      "cell_type": "markdown",
      "metadata": {
        "id": "view-in-github",
        "colab_type": "text"
      },
      "source": [
        "<a href=\"https://colab.research.google.com/github/azharm2412/PCD_Assignment01/blob/main/PCD_Assignment02.ipynb\" target=\"_parent\"><img src=\"https://colab.research.google.com/assets/colab-badge.svg\" alt=\"Open In Colab\"/></a>"
      ]
    },
    {
      "cell_type": "markdown",
      "source": [
        "\n",
        "\n",
        "\n",
        "\n",
        "```\n",
        "Nama  : Azhar Maulana\n",
        "NIM   : 24/533487/PA/22582\n",
        "Kelas : KOMB\n",
        "```\n",
        "\n",
        "\n",
        "\n",
        "\n",
        "\n"
      ],
      "metadata": {
        "id": "iTHBORROrPLc"
      }
    },
    {
      "cell_type": "markdown",
      "source": [
        "# Blurred Image"
      ],
      "metadata": {
        "id": "A4G93CbVn9w7"
      }
    },
    {
      "cell_type": "code",
      "execution_count": null,
      "metadata": {
        "id": "-G1yqNgbl8xk"
      },
      "outputs": [],
      "source": []
    },
    {
      "cell_type": "markdown",
      "source": [
        "# Dark Image\n"
      ],
      "metadata": {
        "id": "Y0Dg72ShoUKw"
      }
    },
    {
      "cell_type": "code",
      "source": [],
      "metadata": {
        "id": "IcA6D8Omojyq"
      },
      "execution_count": null,
      "outputs": []
    },
    {
      "cell_type": "markdown",
      "source": [
        "# Bright Image"
      ],
      "metadata": {
        "id": "bUMPbic-oZVB"
      }
    },
    {
      "cell_type": "code",
      "source": [],
      "metadata": {
        "id": "7gisy2RloklF"
      },
      "execution_count": null,
      "outputs": []
    },
    {
      "cell_type": "markdown",
      "source": [
        "# Low Contrast Image"
      ],
      "metadata": {
        "id": "W5p0wo0moeTI"
      }
    },
    {
      "cell_type": "code",
      "source": [],
      "metadata": {
        "id": "A1PmsMeXolUi"
      },
      "execution_count": null,
      "outputs": []
    },
    {
      "cell_type": "markdown",
      "source": [
        "# Noisy Image\n"
      ],
      "metadata": {
        "id": "HwuVe6SgpV7A"
      }
    },
    {
      "cell_type": "code",
      "source": [],
      "metadata": {
        "id": "h3A-83s8rEzi"
      },
      "execution_count": null,
      "outputs": []
    },
    {
      "cell_type": "markdown",
      "source": [
        "# Low Resolution Image"
      ],
      "metadata": {
        "id": "PUc9VxIOpZCc"
      }
    },
    {
      "cell_type": "code",
      "source": [],
      "metadata": {
        "id": "3k9MSPUkrFlD"
      },
      "execution_count": null,
      "outputs": []
    },
    {
      "cell_type": "markdown",
      "source": [
        "# Sharpened Image"
      ],
      "metadata": {
        "id": "3tBvy5wnqYwS"
      }
    },
    {
      "cell_type": "code",
      "source": [],
      "metadata": {
        "id": "6FIvtZr4rGgE"
      },
      "execution_count": null,
      "outputs": []
    },
    {
      "cell_type": "markdown",
      "source": [
        "# Color Distorted Image"
      ],
      "metadata": {
        "id": "c62rC22iqxIC"
      }
    },
    {
      "cell_type": "code",
      "source": [],
      "metadata": {
        "id": "_xIN_JObrHXJ"
      },
      "execution_count": null,
      "outputs": []
    }
  ]
}